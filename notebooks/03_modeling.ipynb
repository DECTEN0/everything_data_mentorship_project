{
 "cells": [
  {
   "cell_type": "markdown",
   "id": "c0b91c31",
   "metadata": {},
   "source": [
    "# 03 modeling"
   ]
  },
  {
   "cell_type": "code",
   "execution_count": null,
   "id": "02bf1eba",
   "metadata": {},
   "outputs": [],
   "source": [
    "# TODO: implement"
   ]
  }
 ],
 "metadata": {},
 "nbformat": 4,
 "nbformat_minor": 5
}
