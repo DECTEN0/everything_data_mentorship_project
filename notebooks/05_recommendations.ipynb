{
 "cells": [
  {
   "cell_type": "markdown",
   "id": "c6db6cd1",
   "metadata": {},
   "source": [
    "# 04 recommendations"
   ]
  },
  {
   "cell_type": "markdown",
   "id": "a8805fe4-70af-477c-bb1e-66af8e84e1b7",
   "metadata": {},
   "source": [
    "Goal: Predict which students are likely to graduate (class 1).\n",
    "\n",
    "Compared models: Logistic Regression (baseline), Logistic Regression + SMOTE, and CatBoost.\n",
    "\n",
    "Evaluation: Stratified K-fold CV, Accuracy, Precision, Recall, and F1-macro, with emphasis on class 1 recall/F1."
   ]
  },
  {
   "cell_type": "markdown",
   "id": "38b7411b-6cdf-451b-b6d0-33c9be8b71c3",
   "metadata": {},
   "source": [
    "## Key Findings"
   ]
  },
  {
   "cell_type": "markdown",
   "id": "9b28cc92-7ebf-430f-9c36-ae8fd0f55361",
   "metadata": {},
   "source": [
    "Logistic Regression (no SMOTE): Low recall/F1 for graduates - struggled with class imbalance.\n",
    "\n",
    "SMOTE with Logistic Regression: Improved F1-macro (~0.49) and recall for class 1 - better at identifying graduates, even with slightly lower accuracy than CatBoost.\n",
    "\n",
    "CatBoost: Best overall accuracy (~0.61) but very poor recall for graduates (0.17) - unsuitable when missing graduates is costly."
   ]
  },
  {
   "cell_type": "markdown",
   "id": "fd9c924d-32ce-4315-9035-6c14e2439ad9",
   "metadata": {},
   "source": [
    "## Model Recommendation"
   ]
  },
  {
   "cell_type": "markdown",
   "id": "88fcd502-2fd3-4073-9b33-6652f466bddc",
   "metadata": {},
   "source": [
    "Use Logistic Regression with SMOTE as the primary model. It balances precision and recall and is significantly better at detecting students likely to graduate, which aligns with the project’s goal. \n",
    "\n",
    "CatBoost can be explored further, but only if improving class 1 recall."
   ]
  },
  {
   "cell_type": "markdown",
   "id": "d17bbc98-7336-4e7c-908e-d54b17ca478f",
   "metadata": {},
   "source": [
    "## Improvements"
   ]
  },
  {
   "cell_type": "markdown",
   "id": "cd78ad91-1e3a-439b-b418-655cc68c14b0",
   "metadata": {},
   "source": [
    "1. Hyperparameter tuning: Try different SMOTE sampling strategies or Logistic Regression regularization settings.\n",
    "\n",
    "2. Feature engineering: Add or refine features (e.g., attendance, grades) to improve signal for class 1(graduates).\n",
    "\n",
    "3. Threshold optimization: Adjust decision thresholds to favor recall if identifying graduates is critical.\n",
    "\n",
    "4. Alternative models: Test ensemble methods or tune CatBoost with class weights to improve minority class recall.\n",
    "\n",
    "5. Data collection: Gather more examples of graduates to reduce imbalance."
   ]
  },
  {
   "cell_type": "markdown",
   "id": "f930ee82-986e-4c3f-8546-aa377550efaa",
   "metadata": {},
   "source": [
    "For stakeholders:\n",
    "\n",
    "Deploy the SMOTE with Logistic Regression model in a pilot setting to flag students at risk of not graduating. Pair predictions with targeted academic support, then monitor precision/recall metrics over time."
   ]
  }
 ],
 "metadata": {
  "kernelspec": {
   "display_name": "Python 3 (ipykernel)",
   "language": "python",
   "name": "python3"
  },
  "language_info": {
   "codemirror_mode": {
    "name": "ipython",
    "version": 3
   },
   "file_extension": ".py",
   "mimetype": "text/x-python",
   "name": "python",
   "nbconvert_exporter": "python",
   "pygments_lexer": "ipython3",
   "version": "3.13.5"
  }
 },
 "nbformat": 4,
 "nbformat_minor": 5
}
