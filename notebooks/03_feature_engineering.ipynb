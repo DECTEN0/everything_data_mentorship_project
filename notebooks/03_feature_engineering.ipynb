{
 "cells": [
  {
   "cell_type": "markdown",
   "id": "61252c7b-39df-4279-b0fe-74bf00cf5cb9",
   "metadata": {},
   "source": [
    "# 03 Feature Engineering"
   ]
  },
  {
   "cell_type": "markdown",
   "id": "1b9f5745-fd40-4b0b-8195-cafff2f8b27f",
   "metadata": {},
   "source": [
    "## a. Key Considerations from Exploratory Data Analysis"
   ]
  },
  {
   "cell_type": "code",
   "execution_count": 1,
   "id": "5b1ce41a-3f04-4fab-bd53-89b9354ed094",
   "metadata": {
    "scrolled": true
   },
   "outputs": [
    {
     "name": "stdout",
     "output_type": "stream",
     "text": [
      "Current working dir: C:\\Users\\Window\\Desktop\\Everything_Data_Mentorship\\mentorship_ds_project\n"
     ]
    }
   ],
   "source": [
    "import os\n",
    "\n",
    "os.chdir(\"..\")\n",
    "print(\"Current working dir:\", os.getcwd())\n",
    "#print(\"Files in raw folder:\", os.listdir(\"data/raw\"))"
   ]
  },
  {
   "cell_type": "markdown",
   "id": "90b8fdc1-dab2-4bac-8608-06f1710de900",
   "metadata": {},
   "source": [
    "## b. Imports "
   ]
  },
  {
   "cell_type": "code",
   "execution_count": 2,
   "id": "93755b07-cbc0-4d86-bc60-31183926e857",
   "metadata": {},
   "outputs": [],
   "source": [
    "import pandas as pd\n"
   ]
  },
  {
   "cell_type": "markdown",
   "id": "5585ef79-46ca-4bec-aaa3-520048b9648f",
   "metadata": {},
   "source": [
    "## c. Loading Data "
   ]
  },
  {
   "cell_type": "code",
   "execution_count": 3,
   "id": "f0aa9f06-2cc9-4111-867a-035634391b35",
   "metadata": {},
   "outputs": [],
   "source": [
    "df = pd.read_csv(\"data/interim/cleaned_df.csv\")"
   ]
  },
  {
   "cell_type": "code",
   "execution_count": 4,
   "id": "1788463e-5dc3-420d-8e0b-6cc3d4eef75a",
   "metadata": {},
   "outputs": [
    {
     "data": {
      "text/html": [
       "<div>\n",
       "<style scoped>\n",
       "    .dataframe tbody tr th:only-of-type {\n",
       "        vertical-align: middle;\n",
       "    }\n",
       "\n",
       "    .dataframe tbody tr th {\n",
       "        vertical-align: top;\n",
       "    }\n",
       "\n",
       "    .dataframe thead th {\n",
       "        text-align: right;\n",
       "    }\n",
       "</style>\n",
       "<table border=\"1\" class=\"dataframe\">\n",
       "  <thead>\n",
       "    <tr style=\"text-align: right;\">\n",
       "      <th></th>\n",
       "      <th>timestamp</th>\n",
       "      <th>age_range</th>\n",
       "      <th>gender</th>\n",
       "      <th>country</th>\n",
       "      <th>referral_source</th>\n",
       "      <th>years_experience</th>\n",
       "      <th>track_applied</th>\n",
       "      <th>weekly_commitment_hours</th>\n",
       "      <th>main_aim</th>\n",
       "      <th>motivation</th>\n",
       "      <th>skill_level</th>\n",
       "      <th>aptitude_test_completed</th>\n",
       "      <th>total_score</th>\n",
       "      <th>graduated</th>\n",
       "    </tr>\n",
       "  </thead>\n",
       "  <tbody>\n",
       "    <tr>\n",
       "      <th>0</th>\n",
       "      <td>2024-12-01 23:50:47</td>\n",
       "      <td>18-24 years</td>\n",
       "      <td>Male</td>\n",
       "      <td>Kenya</td>\n",
       "      <td>Word of mouth</td>\n",
       "      <td>Less than six months</td>\n",
       "      <td>Data science</td>\n",
       "      <td>less than 6 hours</td>\n",
       "      <td>Upskill</td>\n",
       "      <td>to enter into the data analysis career</td>\n",
       "      <td>Beginner</td>\n",
       "      <td>Yes</td>\n",
       "      <td>58.67</td>\n",
       "      <td>No</td>\n",
       "    </tr>\n",
       "    <tr>\n",
       "      <th>1</th>\n",
       "      <td>2024-12-03 09:35:19</td>\n",
       "      <td>25-34 years</td>\n",
       "      <td>Male</td>\n",
       "      <td>Kenya</td>\n",
       "      <td>WhatsApp</td>\n",
       "      <td>6 months - 1 year</td>\n",
       "      <td>Data science</td>\n",
       "      <td>more than 14 hours</td>\n",
       "      <td>Upskill</td>\n",
       "      <td>To grow and improve my skills in data science ...</td>\n",
       "      <td>Elementary</td>\n",
       "      <td>Yes</td>\n",
       "      <td>70.00</td>\n",
       "      <td>No</td>\n",
       "    </tr>\n",
       "    <tr>\n",
       "      <th>2</th>\n",
       "      <td>2024-12-03 19:16:49</td>\n",
       "      <td>18-24 years</td>\n",
       "      <td>Female</td>\n",
       "      <td>Kenya</td>\n",
       "      <td>WhatsApp</td>\n",
       "      <td>6 months - 1 year</td>\n",
       "      <td>Data science</td>\n",
       "      <td>more than 14 hours</td>\n",
       "      <td>Upskill</td>\n",
       "      <td>I’m motivated to join Everything Data to enhan...</td>\n",
       "      <td>Intermediate</td>\n",
       "      <td>Yes</td>\n",
       "      <td>64.33</td>\n",
       "      <td>Yes</td>\n",
       "    </tr>\n",
       "    <tr>\n",
       "      <th>3</th>\n",
       "      <td>2024-12-03 12:52:36</td>\n",
       "      <td>18-24 years</td>\n",
       "      <td>Female</td>\n",
       "      <td>Kenya</td>\n",
       "      <td>WhatsApp</td>\n",
       "      <td>6 months - 1 year</td>\n",
       "      <td>Data science</td>\n",
       "      <td>7-14 hours</td>\n",
       "      <td>Upskill</td>\n",
       "      <td>I'd like to upskill and Join the Data Community</td>\n",
       "      <td>Intermediate</td>\n",
       "      <td>Yes</td>\n",
       "      <td>75.00</td>\n",
       "      <td>No</td>\n",
       "    </tr>\n",
       "    <tr>\n",
       "      <th>4</th>\n",
       "      <td>2024-12-03 18:12:27</td>\n",
       "      <td>18-24 years</td>\n",
       "      <td>Male</td>\n",
       "      <td>Kenya</td>\n",
       "      <td>WhatsApp</td>\n",
       "      <td>Less than six months</td>\n",
       "      <td>Data science</td>\n",
       "      <td>7-14 hours</td>\n",
       "      <td>Upskill</td>\n",
       "      <td>I aim to join the mentorship program to enhanc...</td>\n",
       "      <td>Beginner</td>\n",
       "      <td>Yes</td>\n",
       "      <td>59.00</td>\n",
       "      <td>No</td>\n",
       "    </tr>\n",
       "  </tbody>\n",
       "</table>\n",
       "</div>"
      ],
      "text/plain": [
       "             timestamp    age_range  gender country referral_source  \\\n",
       "0  2024-12-01 23:50:47  18-24 years    Male   Kenya   Word of mouth   \n",
       "1  2024-12-03 09:35:19  25-34 years    Male   Kenya        WhatsApp   \n",
       "2  2024-12-03 19:16:49  18-24 years  Female   Kenya        WhatsApp   \n",
       "3  2024-12-03 12:52:36  18-24 years  Female   Kenya        WhatsApp   \n",
       "4  2024-12-03 18:12:27  18-24 years    Male   Kenya        WhatsApp   \n",
       "\n",
       "       years_experience track_applied weekly_commitment_hours main_aim  \\\n",
       "0  Less than six months  Data science       less than 6 hours  Upskill   \n",
       "1     6 months - 1 year  Data science      more than 14 hours  Upskill   \n",
       "2     6 months - 1 year  Data science      more than 14 hours  Upskill   \n",
       "3     6 months - 1 year  Data science              7-14 hours  Upskill   \n",
       "4  Less than six months  Data science              7-14 hours  Upskill   \n",
       "\n",
       "                                          motivation   skill_level  \\\n",
       "0             to enter into the data analysis career      Beginner   \n",
       "1  To grow and improve my skills in data science ...    Elementary   \n",
       "2  I’m motivated to join Everything Data to enhan...  Intermediate   \n",
       "3    I'd like to upskill and Join the Data Community  Intermediate   \n",
       "4  I aim to join the mentorship program to enhanc...      Beginner   \n",
       "\n",
       "  aptitude_test_completed  total_score graduated  \n",
       "0                     Yes        58.67        No  \n",
       "1                     Yes        70.00        No  \n",
       "2                     Yes        64.33       Yes  \n",
       "3                     Yes        75.00        No  \n",
       "4                     Yes        59.00        No  "
      ]
     },
     "execution_count": 4,
     "metadata": {},
     "output_type": "execute_result"
    }
   ],
   "source": [
    "df.head()"
   ]
  },
  {
   "cell_type": "markdown",
   "id": "94a25b6c-9a31-4fb9-b411-6ca2b087db5a",
   "metadata": {},
   "source": [
    "## d. Dropping Unnecessary features"
   ]
  },
  {
   "cell_type": "markdown",
   "id": "1cd1ee9f-115f-4ec0-be51-e2c2e0846751",
   "metadata": {},
   "source": [
    "Due to class imbalance in the country column, I opted to drop the feature from the dataset.\n",
    "\n",
    "Due to feature irrelevance, I dropped the timestamp column too."
   ]
  },
  {
   "cell_type": "code",
   "execution_count": 5,
   "id": "1af5571a-9f92-46ab-837e-fee453e693e3",
   "metadata": {},
   "outputs": [],
   "source": [
    "df = df.drop([\"timestamp\", \"country\", \"motivation\"], axis=1)"
   ]
  },
  {
   "cell_type": "code",
   "execution_count": 6,
   "id": "81956fd8-0079-4eb1-842c-ac02049bf1b2",
   "metadata": {},
   "outputs": [
    {
     "name": "stdout",
     "output_type": "stream",
     "text": [
      "<class 'pandas.core.frame.DataFrame'>\n",
      "RangeIndex: 115 entries, 0 to 114\n",
      "Data columns (total 11 columns):\n",
      " #   Column                   Non-Null Count  Dtype  \n",
      "---  ------                   --------------  -----  \n",
      " 0   age_range                115 non-null    object \n",
      " 1   gender                   115 non-null    object \n",
      " 2   referral_source          115 non-null    object \n",
      " 3   years_experience         115 non-null    object \n",
      " 4   track_applied            115 non-null    object \n",
      " 5   weekly_commitment_hours  115 non-null    object \n",
      " 6   main_aim                 115 non-null    object \n",
      " 7   skill_level              114 non-null    object \n",
      " 8   aptitude_test_completed  115 non-null    object \n",
      " 9   total_score              115 non-null    float64\n",
      " 10  graduated                115 non-null    object \n",
      "dtypes: float64(1), object(10)\n",
      "memory usage: 10.0+ KB\n"
     ]
    }
   ],
   "source": [
    "df.info()"
   ]
  },
  {
   "cell_type": "markdown",
   "id": "fc4743b2-e1d4-4936-9d26-41544161c47a",
   "metadata": {},
   "source": [
    "## e. Handle Missing Data"
   ]
  },
  {
   "cell_type": "code",
   "execution_count": 7,
   "id": "c127b288-007a-4183-a01f-198108018fdb",
   "metadata": {},
   "outputs": [],
   "source": [
    "df['skill_level'] = df['skill_level'].fillna(df['skill_level'].mode()[0])"
   ]
  },
  {
   "cell_type": "code",
   "execution_count": 8,
   "id": "8b578e83-2d10-4df5-8151-c4b4d6a92e8a",
   "metadata": {},
   "outputs": [
    {
     "data": {
      "text/plain": [
       "skill_level\n",
       "Elementary      57\n",
       "Beginner        42\n",
       "Intermediate    16\n",
       "Name: count, dtype: int64"
      ]
     },
     "execution_count": 8,
     "metadata": {},
     "output_type": "execute_result"
    }
   ],
   "source": [
    "df['skill_level'].value_counts()"
   ]
  },
  {
   "cell_type": "code",
   "execution_count": 9,
   "id": "f5a8d9ee-b7f9-43ba-b67b-e82a5dd9a596",
   "metadata": {},
   "outputs": [
    {
     "name": "stdout",
     "output_type": "stream",
     "text": [
      "<class 'pandas.core.frame.DataFrame'>\n",
      "RangeIndex: 115 entries, 0 to 114\n",
      "Data columns (total 11 columns):\n",
      " #   Column                   Non-Null Count  Dtype  \n",
      "---  ------                   --------------  -----  \n",
      " 0   age_range                115 non-null    object \n",
      " 1   gender                   115 non-null    object \n",
      " 2   referral_source          115 non-null    object \n",
      " 3   years_experience         115 non-null    object \n",
      " 4   track_applied            115 non-null    object \n",
      " 5   weekly_commitment_hours  115 non-null    object \n",
      " 6   main_aim                 115 non-null    object \n",
      " 7   skill_level              115 non-null    object \n",
      " 8   aptitude_test_completed  115 non-null    object \n",
      " 9   total_score              115 non-null    float64\n",
      " 10  graduated                115 non-null    object \n",
      "dtypes: float64(1), object(10)\n",
      "memory usage: 10.0+ KB\n"
     ]
    }
   ],
   "source": [
    "df.info()"
   ]
  },
  {
   "cell_type": "markdown",
   "id": "5cd0e5d1-6496-4fb8-8e91-9e2657d58c83",
   "metadata": {},
   "source": [
    "## f. Correct data Types"
   ]
  },
  {
   "cell_type": "markdown",
   "id": "4afc9c2d-7a98-441b-9f1d-1ef6431c6f9c",
   "metadata": {},
   "source": [
    "I converted categorical/object columns to category dtype."
   ]
  },
  {
   "cell_type": "code",
   "execution_count": 10,
   "id": "a4f9de6c-3abf-41fd-9955-28620bb4e55e",
   "metadata": {},
   "outputs": [],
   "source": [
    "# I created a function to wrap it all and ease the conversion\n",
    "def set_ordered_categories(df):\n",
    "    \"\"\"\n",
    "    Converts specific columns of df to ordered categorical types for visualization.\n",
    "    Returns a modified copy of the DataFrame.\n",
    "    \"\"\"\n",
    "\n",
    "    # Define categories\n",
    "    experience_categories = [\n",
    "        \"Less than six months\",\n",
    "        \"6 months - 1 year\",\n",
    "        \"1-3 years\",\n",
    "        \"4-6 years\"\n",
    "    ]\n",
    "    commitment_categories = [\"less than 6 hours\", \"7-14 hours\", \"more than 14 hours\"]\n",
    "    skill_level_categories = [\"Beginner\", \"Elementary\", \"Intermediate\"]\n",
    "    age_categories = [\"18-24 years\", \"25-34 years\", \"35-44 years\", \"45-54 years\"]\n",
    "\n",
    "    # Map skill levels to shorter labels\n",
    "    skill_map = {\n",
    "        \"Beginner - I have NO learning or work experience in data analysis/ data science\": \"Beginner\",\n",
    "        \"Elementary - I have theoretical understanding of basic data analysis/ data science concepts\": \"Elementary\",\n",
    "        \"Intermediate - I have theoretical knowledge and experience in data analysis/ data science\": \"Intermediate\"\n",
    "    }\n",
    "\n",
    "    # Apply transformations\n",
    "    df[\"years_experience\"] = pd.Categorical(\n",
    "        df[\"years_experience\"], categories=experience_categories, ordered=True\n",
    "    )\n",
    "    df[\"weekly_commitment_hours\"] = pd.Categorical(\n",
    "        df[\"weekly_commitment_hours\"], categories=commitment_categories, ordered=True\n",
    "    )\n",
    "    df[\"skill_level\"] = pd.Categorical(\n",
    "        df[\"skill_level\"].replace(skill_map),\n",
    "        categories=skill_level_categories,\n",
    "        ordered=True\n",
    "    )\n",
    "    df[\"age_range\"] = pd.Categorical(\n",
    "        df[\"age_range\"], categories=age_categories, ordered=True\n",
    "    )\n",
    "\n",
    "    return df"
   ]
  },
  {
   "cell_type": "code",
   "execution_count": 11,
   "id": "1b780fd2-602a-4536-9f92-552cc757e50a",
   "metadata": {},
   "outputs": [],
   "source": [
    "df = set_ordered_categories(df)"
   ]
  },
  {
   "cell_type": "code",
   "execution_count": 12,
   "id": "ee1f6ea0-e0fc-4c9e-aec6-daddd8a96506",
   "metadata": {},
   "outputs": [
    {
     "data": {
      "text/plain": [
       "skill_level\n",
       "Elementary      57\n",
       "Beginner        42\n",
       "Intermediate    16\n",
       "Name: count, dtype: int64"
      ]
     },
     "execution_count": 12,
     "metadata": {},
     "output_type": "execute_result"
    }
   ],
   "source": [
    "df['skill_level'].value_counts(dropna=False)"
   ]
  },
  {
   "cell_type": "code",
   "execution_count": 13,
   "id": "15ca78e6-34df-42be-ad46-15368ed058db",
   "metadata": {
    "scrolled": true
   },
   "outputs": [
    {
     "name": "stdout",
     "output_type": "stream",
     "text": [
      "<class 'pandas.core.frame.DataFrame'>\n",
      "RangeIndex: 115 entries, 0 to 114\n",
      "Data columns (total 11 columns):\n",
      " #   Column                   Non-Null Count  Dtype   \n",
      "---  ------                   --------------  -----   \n",
      " 0   age_range                115 non-null    category\n",
      " 1   gender                   115 non-null    object  \n",
      " 2   referral_source          115 non-null    object  \n",
      " 3   years_experience         115 non-null    category\n",
      " 4   track_applied            115 non-null    object  \n",
      " 5   weekly_commitment_hours  115 non-null    category\n",
      " 6   main_aim                 115 non-null    object  \n",
      " 7   skill_level              115 non-null    category\n",
      " 8   aptitude_test_completed  115 non-null    object  \n",
      " 9   total_score              115 non-null    float64 \n",
      " 10  graduated                115 non-null    object  \n",
      "dtypes: category(4), float64(1), object(6)\n",
      "memory usage: 7.5+ KB\n"
     ]
    }
   ],
   "source": [
    "df.info()"
   ]
  },
  {
   "cell_type": "markdown",
   "id": "a0720c43-1d0a-4590-b5f3-b4d63aab9707",
   "metadata": {},
   "source": [
    "## g. For the target I'll apply binary encoding. \n",
    "This is the graduated column"
   ]
  },
  {
   "cell_type": "code",
   "execution_count": 14,
   "id": "5076ba07-683e-481b-8b17-5e465e17a6e7",
   "metadata": {
    "scrolled": true
   },
   "outputs": [
    {
     "data": {
      "text/html": [
       "<div>\n",
       "<style scoped>\n",
       "    .dataframe tbody tr th:only-of-type {\n",
       "        vertical-align: middle;\n",
       "    }\n",
       "\n",
       "    .dataframe tbody tr th {\n",
       "        vertical-align: top;\n",
       "    }\n",
       "\n",
       "    .dataframe thead th {\n",
       "        text-align: right;\n",
       "    }\n",
       "</style>\n",
       "<table border=\"1\" class=\"dataframe\">\n",
       "  <thead>\n",
       "    <tr style=\"text-align: right;\">\n",
       "      <th></th>\n",
       "      <th>age_range</th>\n",
       "      <th>gender</th>\n",
       "      <th>referral_source</th>\n",
       "      <th>years_experience</th>\n",
       "      <th>track_applied</th>\n",
       "      <th>weekly_commitment_hours</th>\n",
       "      <th>main_aim</th>\n",
       "      <th>skill_level</th>\n",
       "      <th>aptitude_test_completed</th>\n",
       "      <th>total_score</th>\n",
       "      <th>graduated</th>\n",
       "    </tr>\n",
       "  </thead>\n",
       "  <tbody>\n",
       "    <tr>\n",
       "      <th>0</th>\n",
       "      <td>18-24 years</td>\n",
       "      <td>Male</td>\n",
       "      <td>Word of mouth</td>\n",
       "      <td>Less than six months</td>\n",
       "      <td>Data science</td>\n",
       "      <td>less than 6 hours</td>\n",
       "      <td>Upskill</td>\n",
       "      <td>Beginner</td>\n",
       "      <td>Yes</td>\n",
       "      <td>58.67</td>\n",
       "      <td>0</td>\n",
       "    </tr>\n",
       "    <tr>\n",
       "      <th>1</th>\n",
       "      <td>25-34 years</td>\n",
       "      <td>Male</td>\n",
       "      <td>WhatsApp</td>\n",
       "      <td>6 months - 1 year</td>\n",
       "      <td>Data science</td>\n",
       "      <td>more than 14 hours</td>\n",
       "      <td>Upskill</td>\n",
       "      <td>Elementary</td>\n",
       "      <td>Yes</td>\n",
       "      <td>70.00</td>\n",
       "      <td>0</td>\n",
       "    </tr>\n",
       "    <tr>\n",
       "      <th>2</th>\n",
       "      <td>18-24 years</td>\n",
       "      <td>Female</td>\n",
       "      <td>WhatsApp</td>\n",
       "      <td>6 months - 1 year</td>\n",
       "      <td>Data science</td>\n",
       "      <td>more than 14 hours</td>\n",
       "      <td>Upskill</td>\n",
       "      <td>Intermediate</td>\n",
       "      <td>Yes</td>\n",
       "      <td>64.33</td>\n",
       "      <td>1</td>\n",
       "    </tr>\n",
       "    <tr>\n",
       "      <th>3</th>\n",
       "      <td>18-24 years</td>\n",
       "      <td>Female</td>\n",
       "      <td>WhatsApp</td>\n",
       "      <td>6 months - 1 year</td>\n",
       "      <td>Data science</td>\n",
       "      <td>7-14 hours</td>\n",
       "      <td>Upskill</td>\n",
       "      <td>Intermediate</td>\n",
       "      <td>Yes</td>\n",
       "      <td>75.00</td>\n",
       "      <td>0</td>\n",
       "    </tr>\n",
       "    <tr>\n",
       "      <th>4</th>\n",
       "      <td>18-24 years</td>\n",
       "      <td>Male</td>\n",
       "      <td>WhatsApp</td>\n",
       "      <td>Less than six months</td>\n",
       "      <td>Data science</td>\n",
       "      <td>7-14 hours</td>\n",
       "      <td>Upskill</td>\n",
       "      <td>Beginner</td>\n",
       "      <td>Yes</td>\n",
       "      <td>59.00</td>\n",
       "      <td>0</td>\n",
       "    </tr>\n",
       "  </tbody>\n",
       "</table>\n",
       "</div>"
      ],
      "text/plain": [
       "     age_range  gender referral_source      years_experience track_applied  \\\n",
       "0  18-24 years    Male   Word of mouth  Less than six months  Data science   \n",
       "1  25-34 years    Male        WhatsApp     6 months - 1 year  Data science   \n",
       "2  18-24 years  Female        WhatsApp     6 months - 1 year  Data science   \n",
       "3  18-24 years  Female        WhatsApp     6 months - 1 year  Data science   \n",
       "4  18-24 years    Male        WhatsApp  Less than six months  Data science   \n",
       "\n",
       "  weekly_commitment_hours main_aim   skill_level aptitude_test_completed  \\\n",
       "0       less than 6 hours  Upskill      Beginner                     Yes   \n",
       "1      more than 14 hours  Upskill    Elementary                     Yes   \n",
       "2      more than 14 hours  Upskill  Intermediate                     Yes   \n",
       "3              7-14 hours  Upskill  Intermediate                     Yes   \n",
       "4              7-14 hours  Upskill      Beginner                     Yes   \n",
       "\n",
       "   total_score  graduated  \n",
       "0        58.67          0  \n",
       "1        70.00          0  \n",
       "2        64.33          1  \n",
       "3        75.00          0  \n",
       "4        59.00          0  "
      ]
     },
     "execution_count": 14,
     "metadata": {},
     "output_type": "execute_result"
    }
   ],
   "source": [
    "#Graduated column encoding \n",
    "df['graduated'] = df['graduated'].map({'No': 0, 'Yes': 1})\n",
    "df.head()"
   ]
  },
  {
   "cell_type": "code",
   "execution_count": 15,
   "id": "caa784ff-bf6f-4812-adcb-36489913cdf4",
   "metadata": {},
   "outputs": [
    {
     "name": "stdout",
     "output_type": "stream",
     "text": [
      "<class 'pandas.core.frame.DataFrame'>\n",
      "RangeIndex: 115 entries, 0 to 114\n",
      "Data columns (total 11 columns):\n",
      " #   Column                   Non-Null Count  Dtype   \n",
      "---  ------                   --------------  -----   \n",
      " 0   age_range                115 non-null    category\n",
      " 1   gender                   115 non-null    object  \n",
      " 2   referral_source          115 non-null    object  \n",
      " 3   years_experience         115 non-null    category\n",
      " 4   track_applied            115 non-null    object  \n",
      " 5   weekly_commitment_hours  115 non-null    category\n",
      " 6   main_aim                 115 non-null    object  \n",
      " 7   skill_level              115 non-null    category\n",
      " 8   aptitude_test_completed  115 non-null    object  \n",
      " 9   total_score              115 non-null    float64 \n",
      " 10  graduated                115 non-null    int64   \n",
      "dtypes: category(4), float64(1), int64(1), object(5)\n",
      "memory usage: 7.5+ KB\n"
     ]
    }
   ],
   "source": [
    "df.info()"
   ]
  },
  {
   "cell_type": "code",
   "execution_count": 16,
   "id": "8f59c686-53cb-447d-843c-9fa2db176354",
   "metadata": {},
   "outputs": [
    {
     "data": {
      "text/plain": [
       "main_aim\n",
       "Upskill         74\n",
       "Learn afresh    23\n",
       "Portfolio       15\n",
       "Networking       2\n",
       "Other            1\n",
       "Name: count, dtype: int64"
      ]
     },
     "execution_count": 16,
     "metadata": {},
     "output_type": "execute_result"
    }
   ],
   "source": [
    "df['main_aim'].value_counts(dropna=False)"
   ]
  },
  {
   "cell_type": "markdown",
   "id": "86302ad2-96e4-4d20-af22-6a1c69370630",
   "metadata": {},
   "source": [
    "## h. Pefrom a train test split"
   ]
  },
  {
   "cell_type": "code",
   "execution_count": 17,
   "id": "287abe82-d702-486e-8a5e-b098446b4529",
   "metadata": {},
   "outputs": [],
   "source": [
    "from sklearn.model_selection import train_test_split\n",
    "\n",
    "#set the features and target variables\n",
    "X = df.drop('graduated', axis=1)\n",
    "y = df['graduated']\n",
    "\n",
    "#Peform the split\n",
    "X_train, X_test, y_train, y_test = train_test_split(X, y, test_size=0.2, random_state=42, stratify=y)"
   ]
  },
  {
   "cell_type": "markdown",
   "id": "4797a678-37c7-45d8-ba08-3221140a2caf",
   "metadata": {},
   "source": [
    "## i. Encode Categorical Variables\n",
    "\n",
    "Cosiderations\n",
    "\n",
    "Ordinal Encoding for ordered categorical data. These columns are age_range, years_experience, weekly_commitment_hours and skill_level\n",
    "\n",
    "For norminal features, we'll apply one hot encoding. These columns include; gender, referral_source, track_applied, main_aim, aptitude_test_completed\n",
    "\n"
   ]
  },
  {
   "cell_type": "code",
   "execution_count": 18,
   "id": "da70b54f-ae4e-4db0-88bb-5a217c912870",
   "metadata": {},
   "outputs": [],
   "source": [
    "from sklearn.preprocessing import OneHotEncoder, OrdinalEncoder\n",
    "from sklearn.compose import ColumnTransformer\n",
    "\n",
    "\n",
    "#Identify column groups\n",
    "ordinal_cols = ['age_range', 'years_experience', 'weekly_commitment_hours', 'skill_level']\n",
    "nominal_cols = ['gender', 'referral_source', 'track_applied', 'main_aim', 'aptitude_test_completed']\n",
    "\n",
    "#For OrdinalEncoder, I'll preserve the defined category order from the DataFrame\n",
    "# I'll extract the categories directly from the categorical dtype\n",
    "ordinal_categories = [X_train[col].cat.categories.tolist() for col in ordinal_cols]\n",
    "\n",
    "# Build the ColumnTransformer\n",
    "preprocessor = ColumnTransformer(\n",
    "    transformers=[\n",
    "        ('ord', OrdinalEncoder(categories=ordinal_categories), ordinal_cols),\n",
    "        ('onehot', OneHotEncoder(handle_unknown='ignore', drop='first'), nominal_cols)\n",
    "    ],\n",
    "    remainder='passthrough'  # Keep total_score without change\n",
    ")\n",
    "\n",
    "#Fit on training data only, transform both sets\n",
    "X_train_final = preprocessor.fit_transform(X_train)\n",
    "X_test_final  = preprocessor.transform(X_test)\n",
    "\n",
    "# Optional: get feature names for inspection\n",
    "oh_names = preprocessor.named_transformers_['onehot'].get_feature_names_out(nominal_cols)\n",
    "feature_names = ordinal_cols + list(oh_names) + ['total_score']"
   ]
  },
  {
   "cell_type": "code",
   "execution_count": 19,
   "id": "e908b282-d511-4ef6-9641-b15e898fa61a",
   "metadata": {},
   "outputs": [
    {
     "data": {
      "text/plain": [
       "array(['gender_Male', 'referral_source_Instagram',\n",
       "       'referral_source_LinkedIn', 'referral_source_Twitter',\n",
       "       'referral_source_WhatsApp', 'referral_source_Word of mouth',\n",
       "       'referral_source_through a geeks for geeks webinar',\n",
       "       'track_applied_Data science', 'main_aim_Networking',\n",
       "       'main_aim_Other', 'main_aim_Portfolio', 'main_aim_Upskill',\n",
       "       'aptitude_test_completed_Yes'], dtype=object)"
      ]
     },
     "execution_count": 19,
     "metadata": {},
     "output_type": "execute_result"
    }
   ],
   "source": [
    "oh_names"
   ]
  },
  {
   "cell_type": "code",
   "execution_count": 20,
   "id": "01bf694d-80ef-4f3a-b72e-83789877e423",
   "metadata": {},
   "outputs": [
    {
     "data": {
      "text/plain": [
       "['age_range',\n",
       " 'years_experience',\n",
       " 'weekly_commitment_hours',\n",
       " 'skill_level',\n",
       " 'gender_Male',\n",
       " 'referral_source_Instagram',\n",
       " 'referral_source_LinkedIn',\n",
       " 'referral_source_Twitter',\n",
       " 'referral_source_WhatsApp',\n",
       " 'referral_source_Word of mouth',\n",
       " 'referral_source_through a geeks for geeks webinar',\n",
       " 'track_applied_Data science',\n",
       " 'main_aim_Networking',\n",
       " 'main_aim_Other',\n",
       " 'main_aim_Portfolio',\n",
       " 'main_aim_Upskill',\n",
       " 'aptitude_test_completed_Yes',\n",
       " 'total_score']"
      ]
     },
     "execution_count": 20,
     "metadata": {},
     "output_type": "execute_result"
    }
   ],
   "source": [
    "feature_names"
   ]
  },
  {
   "cell_type": "markdown",
   "id": "82c284e4-a0b6-44d8-8735-59d197b70e34",
   "metadata": {},
   "source": [
    "## j. Save the processor ready for use in modeling"
   ]
  },
  {
   "cell_type": "code",
   "execution_count": 22,
   "id": "e59b12b1-6a20-49ad-82b0-ef014baa11ac",
   "metadata": {},
   "outputs": [],
   "source": [
    "import joblib\n",
    "\n",
    "# Save the fitted preprocessor\n",
    "joblib.dump(preprocessor, 'artifacts/preprocessor.joblib')\n",
    "\n",
    "# Saving the splits\n",
    "X_train.to_csv('data/processed/X_train.csv', index=False)\n",
    "X_test.to_csv('data/processed/X_test.csv', index=False)\n",
    "y_train.to_csv('data/processed/y_train.csv', index=False)\n",
    "y_test.to_csv('data/processed/y_test.csv', index=False)"
   ]
  }
 ],
 "metadata": {
  "kernelspec": {
   "display_name": "Python 3 (ipykernel)",
   "language": "python",
   "name": "python3"
  },
  "language_info": {
   "codemirror_mode": {
    "name": "ipython",
    "version": 3
   },
   "file_extension": ".py",
   "mimetype": "text/x-python",
   "name": "python",
   "nbconvert_exporter": "python",
   "pygments_lexer": "ipython3",
   "version": "3.13.5"
  }
 },
 "nbformat": 4,
 "nbformat_minor": 5
}
